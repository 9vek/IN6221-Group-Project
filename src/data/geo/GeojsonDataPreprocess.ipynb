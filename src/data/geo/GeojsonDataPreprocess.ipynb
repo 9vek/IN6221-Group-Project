{
 "cells": [
  {
   "cell_type": "code",
   "execution_count": 10,
   "id": "32e98a9c",
   "metadata": {},
   "outputs": [],
   "source": [
    "import re\n",
    "import json"
   ]
  },
  {
   "cell_type": "markdown",
   "id": "a91b2ef9",
   "metadata": {},
   "source": [
    "## EwasteRecycling_NEW.geojson Data Preprocessing"
   ]
  },
  {
   "cell_type": "code",
   "execution_count": 11,
   "id": "25cd90f7",
   "metadata": {},
   "outputs": [],
   "source": [
    "with open('EwasteRecycling_NEW.geojson', 'r') as file:\n",
    "    data = json.load(file)"
   ]
  },
  {
   "cell_type": "code",
   "execution_count": 12,
   "id": "63697083",
   "metadata": {},
   "outputs": [],
   "source": [
    "new_features = []\n",
    "for feature in data['features']:\n",
    "    properties = feature['properties']\n",
    "    description = properties.get(\"Description\", \"\")\n",
    "    \n",
    "    building_name_match = re.search(r'ADDRESSBUILDINGNAME<\\/th> <td>(.*?)<\\/td>', description)\n",
    "    postal_code_match = re.search(r'ADDRESSPOSTALCODE<\\/th> <td>(.*?)<\\/td>', description)\n",
    "    street_name_match = re.search(r'ADDRESSSTREETNAME<\\/th> <td>(.*?)<\\/td>', description)\n",
    "    \n",
    "    building_name = building_name_match.group(1) if building_name_match else \"\"\n",
    "    postal_code = postal_code_match.group(1) if postal_code_match else \"\"\n",
    "    street_name = street_name_match.group(1) if street_name_match else \"\"\n",
    "    \n",
    "    new_properties = {\n",
    "        \"Building Name\": building_name,\n",
    "        \"Street Name\": street_name,\n",
    "        \"Postal Code\": postal_code\n",
    "    }\n",
    "    \n",
    "    geometry = feature['geometry']\n",
    "    new_feature = {\n",
    "        \"type\": \"Feature\",\n",
    "        \"properties\": new_properties,\n",
    "        \"geometry\": geometry\n",
    "    }\n",
    "    new_features.append(new_feature)\n",
    "\n",
    "new_geojson = {\n",
    "    \"type\": \"FeatureCollection\",\n",
    "    \"features\": new_features\n",
    "}"
   ]
  },
  {
   "cell_type": "code",
   "execution_count": 13,
   "id": "bbc088f2",
   "metadata": {},
   "outputs": [],
   "source": [
    "with open('filtered_EwasteRecycling.geojson', 'w') as outfile:\n",
    "    json.dump(new_geojson, outfile)"
   ]
  },
  {
   "cell_type": "markdown",
   "id": "cebe6f84",
   "metadata": {},
   "source": [
    "## WasteTreatmentGEOJSON.geojson Data Preprocessing"
   ]
  },
  {
   "cell_type": "code",
   "execution_count": 14,
   "id": "dfe116d2",
   "metadata": {},
   "outputs": [],
   "source": [
    "with open('WasteTreatmentGEOJSON.geojson', 'r') as file:\n",
    "    data = json.load(file)"
   ]
  },
  {
   "cell_type": "code",
   "execution_count": 15,
   "id": "be09e3fd",
   "metadata": {},
   "outputs": [],
   "source": [
    "new_features = []\n",
    "for feature in data['features']:\n",
    "    properties = feature['properties']\n",
    "    description = properties.get(\"Description\", \"\")\n",
    "    \n",
    "    address_blockhouse_number_match = re.search(r'ADDRESSBLOCKHOUSENUMBER<\\/th> <td>(.*?)<\\/td>', description)\n",
    "    postal_code_match = re.search(r'ADDRESSPOSTALCODE<\\/th> <td>(.*?)<\\/td>', description)\n",
    "    street_name_match = re.search(r'ADDRESSSTREETNAME<\\/th> <td>(.*?)<\\/td>', description)\n",
    "    name_match = re.search(r'<th>NAME<\\/th>\\s*<td>(.*?)<\\/td>', description)\n",
    "    \n",
    "    address_blockhouse_number = address_blockhouse_number_match.group(1) if address_blockhouse_number_match else \"\"\n",
    "    postal_code = postal_code_match.group(1) if postal_code_match else \"\"\n",
    "    street_name = street_name_match.group(1) if street_name_match else \"\"\n",
    "    name = name_match.group(1) if name_match else \"\"\n",
    "    \n",
    "    new_properties = {\n",
    "        \"Name\": name,\n",
    "        \"Block House No.\": address_blockhouse_number,\n",
    "        \"Street Name\": street_name,\n",
    "        \"Postal Code\": postal_code,\n",
    "    }\n",
    "    \n",
    "    geometry = feature['geometry']\n",
    "    new_feature = {\n",
    "        \"type\": \"Feature\",\n",
    "        \"properties\": new_properties,\n",
    "        \"geometry\": geometry\n",
    "    }\n",
    "    new_features.append(new_feature)\n",
    "\n",
    "new_geojson = {\n",
    "    \"type\": \"FeatureCollection\",\n",
    "    \"features\": new_features\n",
    "}"
   ]
  },
  {
   "cell_type": "code",
   "execution_count": 16,
   "id": "21ba408e",
   "metadata": {},
   "outputs": [],
   "source": [
    "with open('filtered_WasteTreatmentGEOJSON.geojson', 'w') as outfile:\n",
    "    json.dump(new_geojson, outfile)"
   ]
  },
  {
   "cell_type": "code",
   "execution_count": null,
   "id": "52e16bca",
   "metadata": {},
   "outputs": [],
   "source": []
  }
 ],
 "metadata": {
  "kernelspec": {
   "display_name": "Python 3",
   "language": "python",
   "name": "python3"
  },
  "language_info": {
   "codemirror_mode": {
    "name": "ipython",
    "version": 3
   },
   "file_extension": ".py",
   "mimetype": "text/x-python",
   "name": "python",
   "nbconvert_exporter": "python",
   "pygments_lexer": "ipython3",
   "version": "3.9.13"
  }
 },
 "nbformat": 4,
 "nbformat_minor": 5
}
